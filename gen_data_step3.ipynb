{
 "cells": [
  {
   "cell_type": "code",
   "execution_count": 14,
   "metadata": {},
   "outputs": [],
   "source": [
    "import json\n",
    "import pandas as pd\n",
    "path_pred = '/Users/tan/Desktop/annt/mrc_run_qa/annt/eval_predictions.json'\n",
    "with open(path_pred) as f:\n",
    "    pred = json.load(f)\n",
    "\n",
    "path_ct = '/Users/tan/Desktop/annt/mrc_run_qa/annt/eval_ct.json'\n",
    "with open(path_ct) as f:\n",
    "    ct = json.load(f)\n",
    "\n",
    "path_st = '/Users/tan/Desktop/annt/mrc_run_qa/annt/eval_st.json'\n",
    "with open(path_st) as f:\n",
    "    st = json.load(f)"
   ]
  },
  {
   "cell_type": "code",
   "execution_count": 20,
   "metadata": {},
   "outputs": [],
   "source": [
    "path_data = '/Users/tan/Desktop/annt/annt_step3_history_6.json'\n",
    "out_path = 'annt_relabel.json'\n",
    "out_path_csv = 'annt_relabel.csv'\n",
    "def gen_data_relabel(path_data, out_path, out_path_csv):\n",
    "\n",
    "    data_relabel = {\"id\": [], \"title\": [], \"question\": [], \"context\": [], \"predict\": [], \"relabel\":[], \"answer_start\": []}\n",
    "    with open(path_data) as f:\n",
    "        data = json.load(f)\n",
    "    \n",
    "    for dt in data['data']:\n",
    "        title = dt['title']\n",
    "        for par in dt['paragraphs']:\n",
    "            # par['context'] = \n",
    "            for qas in par['qas']:\n",
    "                id_ = str(qas['id'])\n",
    "                par['context'] = ct[id_]\n",
    "                if pred[id_]:\n",
    "                    qas['answers'] = [{\n",
    "                        'answer_start': st[id_],\n",
    "                        'text': pred[id_]\n",
    "                    }]\n",
    "                else:\n",
    "                    qas['answers'] = [{\n",
    "                        'answer_start': st[id_],\n",
    "                        'text': \"No Answer\"\n",
    "                    }]\n",
    "                    \n",
    "                data_relabel['title'].append(title)\n",
    "                data_relabel['id'].append(id_)\n",
    "                data_relabel['question'].append(qas['question'])\n",
    "                data_relabel['context'].append(ct[id_])\n",
    "                data_relabel['predict'].append(pred[id_] if pred[id_] else \"No Answer\")\n",
    "                data_relabel['relabel'].append(\"\")\n",
    "                data_relabel['answer_start'].append(st[id_])\n",
    "\n",
    "    with open(out_path, 'w', encoding='utf-8') as f:\n",
    "        f.write(json.dumps(data, ensure_ascii=False))\n",
    "    \n",
    "    df = pd.DataFrame(data_relabel)\n",
    "    df.to_csv(out_path_csv, index=False)\n",
    "\n",
    "\n",
    "gen_data_relabel(path_data, out_path, out_path_csv)"
   ]
  },
  {
   "cell_type": "code",
   "execution_count": 10,
   "metadata": {},
   "outputs": [
    {
     "data": {
      "text/plain": [
       "'Dương lịch. Âm lịch '"
      ]
     },
     "execution_count": 10,
     "metadata": {},
     "output_type": "execute_result"
    }
   ],
   "source": [
    "context = \"Từ xa xưa, con người đã nghĩ ra cách làm lịch. Người Ai Cập, Lưỡng Hà hay Trung Quốc cổ đại và một số dân tộc khác thì tính theo âm lịch, còn người La Mã và nhiều tộc người ở châu Âu ,… thì tính theo Dương lịch. Âm lịch là hệ lịch được tính theo chu kì chuyển động của Mặt Trăng quanh Trái Đất. Dương lịch là hệ lịch được tính theo chu kì chuyển động của Trái Đất quanh Mặt Trời. \\nVề sau, dương lịch đã được hoàn chỉnh và thống nhất để các dân tộc đều có thể sử dụng, đó là Công lịch. Công lịch lấy năm ra đời của Chúa Giê-su - tương truyền là người sáng lập ra đạo Thiên Chúa, là năm đầu tiên của Công nguyên. Ngay trước năm đó là năm 1 trước Công nguyên (TCN). Đồng thời còn có cách phân chia thời gian thành thập kỉ , thế kỉ , thiên niên kỉ như sau: Một thập kỉ = 10 năm, Một thế kỉ = 100 năm, Một thiên niên kỉ = 1000 năm, tính từ năm đầu tiên của các khoảng thời gian đó. \\nHiện nay, ở Việt Nam, Công lịch được dùng chính thức trong các cơ quan và văn bản nhà nước, tuy nhiên, âm lịch vẫn được phổ biến rộng rãi trong nhân dân. Vì vậy, trên tờ lịch đều in ngày, tháng, năm của cả hai loại lịch này.\"\n",
    "context[200:220]"
   ]
  },
  {
   "cell_type": "code",
   "execution_count": null,
   "metadata": {},
   "outputs": [],
   "source": []
  }
 ],
 "metadata": {
  "kernelspec": {
   "display_name": "base",
   "language": "python",
   "name": "python3"
  },
  "language_info": {
   "codemirror_mode": {
    "name": "ipython",
    "version": 3
   },
   "file_extension": ".py",
   "mimetype": "text/x-python",
   "name": "python",
   "nbconvert_exporter": "python",
   "pygments_lexer": "ipython3",
   "version": "3.10.9"
  },
  "orig_nbformat": 4,
  "vscode": {
   "interpreter": {
    "hash": "60b7ca9cc80b2ccff07b932bc4576b26101416e8163f6f1c37b303865f66f527"
   }
  }
 },
 "nbformat": 4,
 "nbformat_minor": 2
}
