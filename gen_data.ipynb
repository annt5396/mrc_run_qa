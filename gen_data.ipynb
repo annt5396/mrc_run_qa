{
 "cells": [
  {
   "cell_type": "code",
   "execution_count": 1,
   "metadata": {},
   "outputs": [
    {
     "data": {
      "text/html": [
       "<div>\n",
       "<style scoped>\n",
       "    .dataframe tbody tr th:only-of-type {\n",
       "        vertical-align: middle;\n",
       "    }\n",
       "\n",
       "    .dataframe tbody tr th {\n",
       "        vertical-align: top;\n",
       "    }\n",
       "\n",
       "    .dataframe thead th {\n",
       "        text-align: right;\n",
       "    }\n",
       "</style>\n",
       "<table border=\"1\" class=\"dataframe\">\n",
       "  <thead>\n",
       "    <tr style=\"text-align: right;\">\n",
       "      <th></th>\n",
       "      <th>Unnamed: 0</th>\n",
       "      <th>NO.</th>\n",
       "      <th>chapter</th>\n",
       "      <th>sesion</th>\n",
       "      <th>subsession</th>\n",
       "      <th>text</th>\n",
       "      <th>question</th>\n",
       "    </tr>\n",
       "  </thead>\n",
       "  <tbody>\n",
       "    <tr>\n",
       "      <th>0</th>\n",
       "      <td>NaN</td>\n",
       "      <td>1</td>\n",
       "      <td>Chương 1: Vì sao phải học Lịch Sử</td>\n",
       "      <td>Bài 1: Lịch sử và cuộc sống</td>\n",
       "      <td>1.1. Lịch sử là gì?</td>\n",
       "      <td>Máy tính điện tử cũng như mọi sự vật xung quan...</td>\n",
       "      <td>Lịch Sử được hiểu là tất cả những gì\\nPhân môn...</td>\n",
       "    </tr>\n",
       "    <tr>\n",
       "      <th>1</th>\n",
       "      <td>NaN</td>\n",
       "      <td>2</td>\n",
       "      <td>Chương 1: Vì sao phải học Lịch Sử</td>\n",
       "      <td>Bài 1: Lịch sử và cuộc sống</td>\n",
       "      <td>1.2. Vì sao phải học Lịch sử</td>\n",
       "      <td>Học lịch sử giúp chúng ta tìm hiểu về quá khứ,...</td>\n",
       "      <td>ý nghĩa của việc học lịch sử?\\nCần phải học lị...</td>\n",
       "    </tr>\n",
       "    <tr>\n",
       "      <th>2</th>\n",
       "      <td>NaN</td>\n",
       "      <td>3</td>\n",
       "      <td>Chương 1: Vì sao phải học Lịch Sử</td>\n",
       "      <td>Bài 2: Dựa vào đâu để biết và phục dựng lại lị...</td>\n",
       "      <td>1.1. Tư liệu hiện vật</td>\n",
       "      <td>Tư liệu hiện vật là những di tích, đồ vật,… củ...</td>\n",
       "      <td>Tư liệu hiện vật là\\nƯu điểm nổi bật của tư li...</td>\n",
       "    </tr>\n",
       "    <tr>\n",
       "      <th>3</th>\n",
       "      <td>NaN</td>\n",
       "      <td>4</td>\n",
       "      <td>Chương 1: Vì sao phải học Lịch Sử</td>\n",
       "      <td>Bài 2: Dựa vào đâu để biết và phục dựng lại lị...</td>\n",
       "      <td>1.2. Tư liệu chữ viết</td>\n",
       "      <td>Những bản ghi, tài liệu chép tay hay sách được...</td>\n",
       "      <td>Tư liệu chữ viết là\\nĐiểm hạn chế của tư liệu ...</td>\n",
       "    </tr>\n",
       "    <tr>\n",
       "      <th>4</th>\n",
       "      <td>NaN</td>\n",
       "      <td>5</td>\n",
       "      <td>Chương 1: Vì sao phải học Lịch Sử</td>\n",
       "      <td>Bài 2: Dựa vào đâu để biết và phục dựng lại lị...</td>\n",
       "      <td>1.3. Tư liệu truyền miệng</td>\n",
       "      <td>Những câu chuyện dân gian (thần thoại, truyền ...</td>\n",
       "      <td>Điểm hạn chế của tư liệu truyền miệng là gì?\\n...</td>\n",
       "    </tr>\n",
       "  </tbody>\n",
       "</table>\n",
       "</div>"
      ],
      "text/plain": [
       "   Unnamed: 0  NO.                            chapter  \\\n",
       "0         NaN    1  Chương 1: Vì sao phải học Lịch Sử   \n",
       "1         NaN    2  Chương 1: Vì sao phải học Lịch Sử   \n",
       "2         NaN    3  Chương 1: Vì sao phải học Lịch Sử   \n",
       "3         NaN    4  Chương 1: Vì sao phải học Lịch Sử   \n",
       "4         NaN    5  Chương 1: Vì sao phải học Lịch Sử   \n",
       "\n",
       "                                              sesion  \\\n",
       "0                        Bài 1: Lịch sử và cuộc sống   \n",
       "1                        Bài 1: Lịch sử và cuộc sống   \n",
       "2  Bài 2: Dựa vào đâu để biết và phục dựng lại lị...   \n",
       "3  Bài 2: Dựa vào đâu để biết và phục dựng lại lị...   \n",
       "4  Bài 2: Dựa vào đâu để biết và phục dựng lại lị...   \n",
       "\n",
       "                     subsession  \\\n",
       "0           1.1. Lịch sử là gì?   \n",
       "1  1.2. Vì sao phải học Lịch sử   \n",
       "2         1.1. Tư liệu hiện vật   \n",
       "3         1.2. Tư liệu chữ viết   \n",
       "4     1.3. Tư liệu truyền miệng   \n",
       "\n",
       "                                                text  \\\n",
       "0  Máy tính điện tử cũng như mọi sự vật xung quan...   \n",
       "1  Học lịch sử giúp chúng ta tìm hiểu về quá khứ,...   \n",
       "2  Tư liệu hiện vật là những di tích, đồ vật,… củ...   \n",
       "3  Những bản ghi, tài liệu chép tay hay sách được...   \n",
       "4  Những câu chuyện dân gian (thần thoại, truyền ...   \n",
       "\n",
       "                                            question  \n",
       "0  Lịch Sử được hiểu là tất cả những gì\\nPhân môn...  \n",
       "1  ý nghĩa của việc học lịch sử?\\nCần phải học lị...  \n",
       "2  Tư liệu hiện vật là\\nƯu điểm nổi bật của tư li...  \n",
       "3  Tư liệu chữ viết là\\nĐiểm hạn chế của tư liệu ...  \n",
       "4  Điểm hạn chế của tư liệu truyền miệng là gì?\\n...  "
      ]
     },
     "execution_count": 1,
     "metadata": {},
     "output_type": "execute_result"
    }
   ],
   "source": [
    "import pandas as pd \n",
    "\n",
    "path_data = '/Users/tan/Desktop/annt/document_history_v105_lop6.xlsx - annt .csv'\n",
    "\n",
    "data = pd.read_csv(path_data)\n",
    "data.head()"
   ]
  },
  {
   "cell_type": "code",
   "execution_count": 14,
   "metadata": {},
   "outputs": [
    {
     "data": {
      "text/html": [
       "<div>\n",
       "<style scoped>\n",
       "    .dataframe tbody tr th:only-of-type {\n",
       "        vertical-align: middle;\n",
       "    }\n",
       "\n",
       "    .dataframe tbody tr th {\n",
       "        vertical-align: top;\n",
       "    }\n",
       "\n",
       "    .dataframe thead th {\n",
       "        text-align: right;\n",
       "    }\n",
       "</style>\n",
       "<table border=\"1\" class=\"dataframe\">\n",
       "  <thead>\n",
       "    <tr style=\"text-align: right;\">\n",
       "      <th></th>\n",
       "      <th>Unnamed: 0</th>\n",
       "      <th>NO.</th>\n",
       "      <th>chapter</th>\n",
       "      <th>sesion</th>\n",
       "      <th>subsession</th>\n",
       "      <th>text</th>\n",
       "      <th>question</th>\n",
       "    </tr>\n",
       "  </thead>\n",
       "  <tbody>\n",
       "    <tr>\n",
       "      <th>3</th>\n",
       "      <td>NaN</td>\n",
       "      <td>4</td>\n",
       "      <td>Chương 1: Vì sao phải học Lịch Sử</td>\n",
       "      <td>Bài 2: Dựa vào đâu để biết và phục dựng lại lị...</td>\n",
       "      <td>1.2. Tư liệu chữ viết</td>\n",
       "      <td>Những bản ghi, tài liệu chép tay hay sách được...</td>\n",
       "      <td>Tư liệu chữ viết là\\nĐiểm hạn chế của tư liệu ...</td>\n",
       "    </tr>\n",
       "    <tr>\n",
       "      <th>4</th>\n",
       "      <td>NaN</td>\n",
       "      <td>5</td>\n",
       "      <td>Chương 1: Vì sao phải học Lịch Sử</td>\n",
       "      <td>Bài 2: Dựa vào đâu để biết và phục dựng lại lị...</td>\n",
       "      <td>1.3. Tư liệu truyền miệng</td>\n",
       "      <td>Những câu chuyện dân gian (thần thoại, truyền ...</td>\n",
       "      <td>Điểm hạn chế của tư liệu truyền miệng là gì?\\n...</td>\n",
       "    </tr>\n",
       "    <tr>\n",
       "      <th>5</th>\n",
       "      <td>NaN</td>\n",
       "      <td>6</td>\n",
       "      <td>Chương 1: Vì sao phải học Lịch Sử</td>\n",
       "      <td>Bài 2: Dựa vào đâu để biết và phục dựng lại lị...</td>\n",
       "      <td>1.4. Tư liệu gốc</td>\n",
       "      <td>Tư liệu gốc là tư liệu cung cấp những thông ti...</td>\n",
       "      <td>Các tác phẩm như: Đại Việt sử ký, Đại Việt sử ...</td>\n",
       "    </tr>\n",
       "    <tr>\n",
       "      <th>6</th>\n",
       "      <td>NaN</td>\n",
       "      <td>7</td>\n",
       "      <td>Chương 1: Vì sao phải học Lịch Sử</td>\n",
       "      <td>Bài 3: Thời gian trong lịch sử</td>\n",
       "      <td>1.1. Vì sao phải xác định thời gian trong lịch...</td>\n",
       "      <td>Lịch sử là những gì đã xảy ra trong quá khứ th...</td>\n",
       "      <td>Cần phải xác định thời gian trong lịch sử vì\\n...</td>\n",
       "    </tr>\n",
       "    <tr>\n",
       "      <th>7</th>\n",
       "      <td>NaN</td>\n",
       "      <td>8</td>\n",
       "      <td>Chương 1: Vì sao phải học Lịch Sử</td>\n",
       "      <td>Bài 3: Thời gian trong lịch sử</td>\n",
       "      <td>1.2. Các cách tính thời gian trong lịch sử</td>\n",
       "      <td>Từ xa xưa, con người đã nghĩ ra cách làm lịch....</td>\n",
       "      <td>Theo em, âm lịch là loại lịch dựa theo chu kì ...</td>\n",
       "    </tr>\n",
       "  </tbody>\n",
       "</table>\n",
       "</div>"
      ],
      "text/plain": [
       "   Unnamed: 0  NO.                            chapter  \\\n",
       "3         NaN    4  Chương 1: Vì sao phải học Lịch Sử   \n",
       "4         NaN    5  Chương 1: Vì sao phải học Lịch Sử   \n",
       "5         NaN    6  Chương 1: Vì sao phải học Lịch Sử   \n",
       "6         NaN    7  Chương 1: Vì sao phải học Lịch Sử   \n",
       "7         NaN    8  Chương 1: Vì sao phải học Lịch Sử   \n",
       "\n",
       "                                              sesion  \\\n",
       "3  Bài 2: Dựa vào đâu để biết và phục dựng lại lị...   \n",
       "4  Bài 2: Dựa vào đâu để biết và phục dựng lại lị...   \n",
       "5  Bài 2: Dựa vào đâu để biết và phục dựng lại lị...   \n",
       "6                     Bài 3: Thời gian trong lịch sử   \n",
       "7                     Bài 3: Thời gian trong lịch sử   \n",
       "\n",
       "                                          subsession  \\\n",
       "3                              1.2. Tư liệu chữ viết   \n",
       "4                          1.3. Tư liệu truyền miệng   \n",
       "5                                   1.4. Tư liệu gốc   \n",
       "6  1.1. Vì sao phải xác định thời gian trong lịch...   \n",
       "7         1.2. Các cách tính thời gian trong lịch sử   \n",
       "\n",
       "                                                text  \\\n",
       "3  Những bản ghi, tài liệu chép tay hay sách được...   \n",
       "4  Những câu chuyện dân gian (thần thoại, truyền ...   \n",
       "5  Tư liệu gốc là tư liệu cung cấp những thông ti...   \n",
       "6  Lịch sử là những gì đã xảy ra trong quá khứ th...   \n",
       "7  Từ xa xưa, con người đã nghĩ ra cách làm lịch....   \n",
       "\n",
       "                                            question  \n",
       "3  Tư liệu chữ viết là\\nĐiểm hạn chế của tư liệu ...  \n",
       "4  Điểm hạn chế của tư liệu truyền miệng là gì?\\n...  \n",
       "5  Các tác phẩm như: Đại Việt sử ký, Đại Việt sử ...  \n",
       "6  Cần phải xác định thời gian trong lịch sử vì\\n...  \n",
       "7  Theo em, âm lịch là loại lịch dựa theo chu kì ...  "
      ]
     },
     "execution_count": 14,
     "metadata": {},
     "output_type": "execute_result"
    }
   ],
   "source": [
    "data.tail()"
   ]
  },
  {
   "cell_type": "code",
   "execution_count": 3,
   "metadata": {},
   "outputs": [
    {
     "data": {
      "text/plain": [
       "Index(['Unnamed: 0', 'NO.', 'chapter', 'sesion', 'subsession', 'text',\n",
       "       'question'],\n",
       "      dtype='object')"
      ]
     },
     "execution_count": 3,
     "metadata": {},
     "output_type": "execute_result"
    }
   ],
   "source": [
    "data.columns"
   ]
  },
  {
   "cell_type": "code",
   "execution_count": 27,
   "metadata": {},
   "outputs": [],
   "source": [
    "import json\n",
    "\n",
    "\n",
    "def gen_data(data_path, out_path):\n",
    "    data = pd.read_csv(data_path)\n",
    "\n",
    "    data_step3 = {'data': []}\n",
    "\n",
    "    data_title = {'title': '', 'paragraphs': []}\n",
    "    count = 0\n",
    "    for i in range(data.shape[0]):\n",
    "        title = data['sesion'][i]\n",
    "        context = data['text'][i]\n",
    "        questions = data['question'][i].split('\\n')\n",
    "        if title != data_title['title']:\n",
    "            \n",
    "            if data_title['paragraphs']:\n",
    "                print(i, title, data_title['title'])\n",
    "                data_step3['data'].append(data_title)\n",
    "            data_title = {'title': title, 'paragraphs': []}\n",
    "         \n",
    "        if title == data_title['title']:\n",
    "            data_qas = {\n",
    "                \"context\": context,\n",
    "                \"qas\" : []\n",
    "            }\n",
    "            print(count, title)\n",
    "            for question in questions:\n",
    "                # print(count)\n",
    "                count += 1\n",
    "                data_qas['qas'].append({\n",
    "                    'question': question,\n",
    "                    'id': count,\n",
    "                    'answers': []\n",
    "                })\n",
    "            data_title['paragraphs'].append(data_qas)\n",
    "    data_step3['data'].append(data_title)\n",
    "\n",
    "    with open(out_path, 'w', encoding='utf-8') as f:\n",
    "        f.write(json.dumps(data_step3, ensure_ascii=False))"
   ]
  },
  {
   "cell_type": "code",
   "execution_count": 28,
   "metadata": {},
   "outputs": [
    {
     "name": "stdout",
     "output_type": "stream",
     "text": [
      "0 Bài 1: Lịch sử và cuộc sống\n",
      "29 Bài 1: Lịch sử và cuộc sống\n",
      "2 Bài 2: Dựa vào đâu để biết và phục dựng lại lịch sử Bài 1: Lịch sử và cuộc sống\n",
      "52 Bài 2: Dựa vào đâu để biết và phục dựng lại lịch sử\n",
      "67 Bài 2: Dựa vào đâu để biết và phục dựng lại lịch sử\n",
      "78 Bài 2: Dựa vào đâu để biết và phục dựng lại lịch sử\n",
      "87 Bài 2: Dựa vào đâu để biết và phục dựng lại lịch sử\n",
      "6 Bài 3: Thời gian trong lịch sử Bài 2: Dựa vào đâu để biết và phục dựng lại lịch sử\n",
      "97 Bài 3: Thời gian trong lịch sử\n",
      "118 Bài 3: Thời gian trong lịch sử\n"
     ]
    }
   ],
   "source": [
    "data_path = '/Users/tan/Desktop/annt/document_history_v105_lop6.xlsx - annt .csv'\n",
    "out_path = 'annt_step3_history_6.json'\n",
    "\n",
    "gen_data(data_path, out_path)"
   ]
  },
  {
   "cell_type": "code",
   "execution_count": 31,
   "metadata": {},
   "outputs": [
    {
     "data": {
      "text/plain": [
       "5"
      ]
     },
     "execution_count": 31,
     "metadata": {},
     "output_type": "execute_result"
    }
   ],
   "source": [
    "a = {'1':1, '2':2, '4':5}\n",
    "a.pop('4')\n",
    "\n",
    "\n"
   ]
  },
  {
   "cell_type": "code",
   "execution_count": 33,
   "metadata": {},
   "outputs": [
    {
     "data": {
      "text/plain": [
       "'1.13.1'"
      ]
     },
     "execution_count": 33,
     "metadata": {},
     "output_type": "execute_result"
    }
   ],
   "source": [
    "import torch\n",
    "\n",
    "torch.__version__"
   ]
  },
  {
   "cell_type": "code",
   "execution_count": null,
   "metadata": {},
   "outputs": [],
   "source": []
  }
 ],
 "metadata": {
  "kernelspec": {
   "display_name": "base",
   "language": "python",
   "name": "python3"
  },
  "language_info": {
   "codemirror_mode": {
    "name": "ipython",
    "version": 3
   },
   "file_extension": ".py",
   "mimetype": "text/x-python",
   "name": "python",
   "nbconvert_exporter": "python",
   "pygments_lexer": "ipython3",
   "version": "3.10.9 (main, Jan 11 2023, 09:18:20) [Clang 14.0.6 ]"
  },
  "orig_nbformat": 4,
  "vscode": {
   "interpreter": {
    "hash": "60b7ca9cc80b2ccff07b932bc4576b26101416e8163f6f1c37b303865f66f527"
   }
  }
 },
 "nbformat": 4,
 "nbformat_minor": 2
}
